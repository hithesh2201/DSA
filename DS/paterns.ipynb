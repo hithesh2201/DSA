{
 "cells": [
  {
   "cell_type": "code",
   "execution_count": null,
   "metadata": {},
   "outputs": [],
   "source": [
    "#Learning patterns to improve loops"
   ]
  },
  {
   "cell_type": "code",
   "execution_count": null,
   "metadata": {},
   "outputs": [
    {
     "name": "stdout",
     "output_type": "stream",
     "text": [
      "*****\n",
      "*****\n",
      "*****\n",
      "*****\n",
      "*****\n"
     ]
    }
   ],
   "source": [
    "n=int(input()) #n=6\n",
    "for i in range(n):\n",
    "    print(\"*\"*n)\n",
    "# o/p:\n",
    "# ******\n",
    "# ******\n",
    "# ******\n",
    "# ******\n",
    "# ******\n",
    "# ******"
   ]
  },
  {
   "cell_type": "code",
   "execution_count": null,
   "metadata": {},
   "outputs": [
    {
     "name": "stdout",
     "output_type": "stream",
     "text": [
      "1\n",
      "1 2\n",
      "1 2 3\n",
      "1 2 3 4\n",
      "1 2 3 4 5\n"
     ]
    }
   ],
   "source": [
    "n=int(input()) #n=5\n",
    "# s=''\n",
    "# for i in range(1,n+1):\n",
    "#     if i==1:\n",
    "#         s+=str(i)\n",
    "#         print(s)\n",
    "#     else:\n",
    "#         s+=\" \"+str(i) if we do string concatenation right, it will recreate a string every time so it will be inefficient for large n\n",
    "#         print(s)\n",
    "# optimal way\n",
    "l1=[]\n",
    "for i in range(1,n+1):\n",
    "    l1.append(str(i))\n",
    "    print(\" \".join(l1))  \n",
    "    \n",
    "# 1\n",
    "# 1 2\n",
    "# 1 2 3\n",
    "# 1 2 3 4\n",
    "# 1 2 3 4 5"
   ]
  },
  {
   "cell_type": "code",
   "execution_count": null,
   "metadata": {},
   "outputs": [
    {
     "name": "stdout",
     "output_type": "stream",
     "text": [
      "1\n",
      "22\n",
      "333\n",
      "4444\n",
      "55555\n"
     ]
    }
   ],
   "source": [
    "n=int(input()) #n=5\n",
    "for i in range(1,n+1):\n",
    "    print(str(i)*i)\n",
    "# 1\n",
    "# 22\n",
    "# 333\n",
    "# 4444\n",
    "# 55555\n"
   ]
  },
  {
   "cell_type": "code",
   "execution_count": null,
   "metadata": {},
   "outputs": [
    {
     "name": "stdout",
     "output_type": "stream",
     "text": [
      "*****\n",
      "****\n",
      "***\n",
      "**\n",
      "*\n"
     ]
    }
   ],
   "source": [
    "n=int(input()) #n=5\n",
    "for i in range(n,0,-1):\n",
    "    print(\"*\"*i)\n",
    "# *****\n",
    "# ****\n",
    "# ***\n",
    "# **\n",
    "# *"
   ]
  },
  {
   "cell_type": "code",
   "execution_count": 14,
   "metadata": {},
   "outputs": [
    {
     "name": "stdout",
     "output_type": "stream",
     "text": [
      "1 2 3 4 5\n",
      "1 2 3 4\n",
      "1 2 3\n",
      "1 2\n",
      "1\n"
     ]
    }
   ],
   "source": [
    "n=int(input()) #n=5\n",
    "l1=[]\n",
    "for i in range(1,n+1):\n",
    "    l1.append(str(i))\n",
    "for i in range(n,0,-1):\n",
    "    print(\" \".join(l1[:i]))"
   ]
  },
  {
   "cell_type": "code",
   "execution_count": null,
   "metadata": {},
   "outputs": [
    {
     "name": "stdout",
     "output_type": "stream",
     "text": [
      "     *\n",
      "    ***\n",
      "   *****\n",
      "  *******\n",
      " *********\n"
     ]
    }
   ],
   "source": [
    "n=int(input()) #n=5\n",
    "for i in range(n):\n",
    "    print(\" \"*(n-i)+\"*\"*((2*i)+1))\n",
    "#      *\n",
    "#     ***\n",
    "#    *****\n",
    "#   *******\n",
    "#  *********"
   ]
  },
  {
   "cell_type": "code",
   "execution_count": null,
   "metadata": {},
   "outputs": [
    {
     "name": "stdout",
     "output_type": "stream",
     "text": [
      " *********\n",
      "  *******\n",
      "   *****\n",
      "    ***\n",
      "     *\n"
     ]
    }
   ],
   "source": [
    "n=int(input()) #n=5\n",
    "for i in range(1,n+1):\n",
    "    print(\" \"*(i)+\"*\"*((2*(n-i))+1))\n",
    "#  *********\n",
    "#   *******\n",
    "#    *****\n",
    "#     ***\n",
    "#      *\n"
   ]
  },
  {
   "cell_type": "code",
   "execution_count": 20,
   "metadata": {},
   "outputs": [
    {
     "name": "stdout",
     "output_type": "stream",
     "text": [
      "     *\n",
      "    ***\n",
      "   *****\n",
      "  *******\n",
      " *********\n",
      " *********\n",
      "  *******\n",
      "   *****\n",
      "    ***\n",
      "     *\n"
     ]
    }
   ],
   "source": [
    "n=int(input()) #n=5\n",
    "for i in range(n):\n",
    "    print(\" \"*(n-i)+\"*\"*((2*i)+1))\n",
    "for i in range(1,n+1):\n",
    "    print(\" \"*(i)+\"*\"*((2*(n-i))+1))\n",
    "\n",
    "#      *\n",
    "#     ***\n",
    "#    *****\n",
    "#   *******\n",
    "#  *********\n",
    "#  *********\n",
    "#   *******\n",
    "#    *****\n",
    "#     ***\n",
    "#      *"
   ]
  },
  {
   "cell_type": "code",
   "execution_count": null,
   "metadata": {},
   "outputs": [
    {
     "name": "stdout",
     "output_type": "stream",
     "text": [
      "*\n",
      "**\n",
      "***\n",
      "****\n",
      "*****\n",
      "****\n",
      "***\n",
      "**\n",
      "*\n"
     ]
    }
   ],
   "source": [
    "n=int(input()) #n=5\n",
    "for i in range(1,n):\n",
    "    print(\"*\"*i)\n",
    "for i in range(n,0,-1):\n",
    "    print(\"*\"*i)\n",
    "# *\n",
    "# **\n",
    "# ***\n",
    "# ****\n",
    "# *****\n",
    "# ****\n",
    "# ***\n",
    "# **\n",
    "# *"
   ]
  },
  {
   "cell_type": "code",
   "execution_count": 30,
   "metadata": {},
   "outputs": [
    {
     "name": "stdout",
     "output_type": "stream",
     "text": [
      "1\n",
      "0 1\n",
      "1 0 1\n",
      "0 1 0 1\n",
      "1 0 1 0 1\n"
     ]
    }
   ],
   "source": [
    "from collections import deque\n",
    "n=int(input())\n",
    "l1=deque([])\n",
    "for i in range(1,n+1):\n",
    "    if i%2==0:\n",
    "        l1.appendleft(str(0))\n",
    "    else:\n",
    "        l1.appendleft(str(1))\n",
    "    print(\" \".join(l1))\n",
    "# 1\n",
    "# 0 1\n",
    "# 1 0 1\n",
    "# 0 1 0 1\n",
    "# 1 0 1 0 1"
   ]
  },
  {
   "cell_type": "code",
   "execution_count": null,
   "metadata": {},
   "outputs": [
    {
     "name": "stdout",
     "output_type": "stream",
     "text": [
      "1      1\n",
      "12    21\n",
      "123  321\n",
      "12344321\n"
     ]
    }
   ],
   "source": [
    "n=int(input())\n",
    "l1=[]\n",
    "for i in range(1,n+1):\n",
    "    l1.append(str(i))\n",
    "    print(\"\".join(l1)+\" \"*(2*(n-i))+\"\".join(l1[::-1]))\n",
    "# 1      1\n",
    "# 12    21\n",
    "# 123  321\n",
    "# 12344321"
   ]
  },
  {
   "cell_type": "code",
   "execution_count": null,
   "metadata": {},
   "outputs": [
    {
     "name": "stdout",
     "output_type": "stream",
     "text": [
      "1\n",
      "2 3\n",
      "4 5 6\n",
      "7 8 9 10\n",
      "11 12 13 14 15\n"
     ]
    }
   ],
   "source": [
    "# n=int(input())\n",
    "# c=1\n",
    "# for i in range(1,n+1):\n",
    "#     l1=[]\n",
    "#     for j in range(1,i+1):\n",
    "#         l1.append(str(c))\n",
    "#         c+=1\n",
    "#     print(\" \".join(l1))\n",
    "n = int(input())  #optimal version\n",
    "c = 1\n",
    "for i in range(1, n + 1):\n",
    "    print(\" \".join(map(str, range(c, c + i))))  # Use range and map for efficiency\n",
    "    c += i  # Increment `c` by the row size\n",
    "\n",
    "# 1\n",
    "# 2 3\n",
    "# 4 5 6\n",
    "# 7 8 9 10\n",
    "# 11 12 13 14 15\n",
    "    "
   ]
  },
  {
   "cell_type": "code",
   "execution_count": null,
   "metadata": {},
   "outputs": [
    {
     "name": "stdout",
     "output_type": "stream",
     "text": [
      "A\n",
      "AB\n",
      "ABC\n",
      "ABCD\n",
      "ABCDE\n"
     ]
    }
   ],
   "source": [
    "n=int(input())\n",
    "c=65\n",
    "l1=[]\n",
    "for i in range(n):\n",
    "    l1.append(chr(c))\n",
    "    print(\"\".join(l1))\n",
    "    c+=1\n",
    "# A\n",
    "# AB\n",
    "# ABC\n",
    "# ABCD\n",
    "# ABCDE"
   ]
  },
  {
   "cell_type": "code",
   "execution_count": null,
   "metadata": {},
   "outputs": [
    {
     "name": "stdout",
     "output_type": "stream",
     "text": [
      "ABCDE\n",
      "ABCD\n",
      "ABC\n",
      "AB\n",
      "A\n"
     ]
    }
   ],
   "source": [
    "n=int(input())\n",
    "c=65\n",
    "l1=[]\n",
    "for i in range(n):\n",
    "    l1.append(chr(c))\n",
    "    c+=1\n",
    "for i in range(n):\n",
    "    print(\"\".join(l1[:n-i]))\n",
    "    \n",
    "# n = int(input())   optimal sol\n",
    "# c = 65  # ASCII value for 'A'\n",
    "# for i in range(n):\n",
    "#     print(\"\".join(chr(c + j) for j in range(n - i)))\n",
    "\n",
    "# ABCDE\n",
    "# ABCD\n",
    "# ABC\n",
    "# AB\n",
    "# A"
   ]
  },
  {
   "cell_type": "code",
   "execution_count": null,
   "metadata": {},
   "outputs": [
    {
     "name": "stdout",
     "output_type": "stream",
     "text": [
      "A\n",
      "BB\n",
      "CCC\n",
      "DDDD\n",
      "EEEEE\n"
     ]
    }
   ],
   "source": [
    "n=int(input())\n",
    "c=65\n",
    "for i in range(1,n+1):\n",
    "    print(chr(c)*i)\n",
    "    c+=1\n",
    "# A\n",
    "# BB\n",
    "# CCC\n",
    "# DDDD\n",
    "# EEEEE"
   ]
  },
  {
   "cell_type": "code",
   "execution_count": null,
   "metadata": {},
   "outputs": [
    {
     "name": "stdout",
     "output_type": "stream",
     "text": [
      "   A\n",
      "  ABA\n",
      " ABCBA\n",
      "ABCDCBA\n"
     ]
    }
   ],
   "source": [
    "n=int(input())\n",
    "c=65\n",
    "l1=[]\n",
    "for i in range(1,n+1):\n",
    "    l1.append(chr(c))\n",
    "    print(\" \"*(n-i)+\"\".join(l1)+\"\".join(l1[::-1][1:]))\n",
    "    c+=1\n",
    "#    A\n",
    "#   ABA\n",
    "#  ABCBA\n",
    "# ABCDCBA"
   ]
  },
  {
   "cell_type": "code",
   "execution_count": null,
   "metadata": {},
   "outputs": [],
   "source": []
  },
  {
   "cell_type": "code",
   "execution_count": null,
   "metadata": {},
   "outputs": [],
   "source": []
  },
  {
   "cell_type": "code",
   "execution_count": null,
   "metadata": {},
   "outputs": [],
   "source": []
  },
  {
   "cell_type": "code",
   "execution_count": null,
   "metadata": {},
   "outputs": [],
   "source": []
  }
 ],
 "metadata": {
  "kernelspec": {
   "display_name": "Python 3",
   "language": "python",
   "name": "python3"
  },
  "language_info": {
   "codemirror_mode": {
    "name": "ipython",
    "version": 3
   },
   "file_extension": ".py",
   "mimetype": "text/x-python",
   "name": "python",
   "nbconvert_exporter": "python",
   "pygments_lexer": "ipython3",
   "version": "3.10.6"
  }
 },
 "nbformat": 4,
 "nbformat_minor": 2
}
